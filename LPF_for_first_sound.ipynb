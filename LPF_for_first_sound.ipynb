# Aşağıdaki AGF bağlama sesinin sönümlenmesi için tasarlanmıştır.

import matplotlib.pyplot as plt # grafik çizimi için gerekli kütüphanenin aktifleştirilmesi
import numpy as np
from scipy.io.wavfile import read # Ses dosyasının okunması için gerekli kütüphane
%matplotlib notebook
from scipy.fft import fft, ifft
import scipy
from scipy.io import loadmat
from IPython.lib.display import Audio

Fs1, x1 = read("B12_baglama01.wav") # dosyayı oku
print("x1.shape=",x1.shape) # x'in boyut bilgisi
print("Fs1=",Fs1)

baglama = x1[:,1] # x'in sadece ilk sütunundaki örnekler alınmıştır (1. kanalın örnekleri)
N_baglama = len(x1)
n1=np.arange(0,N_baglama) # örnekleme indisini ses dosyasının boyutuna eşitle
plt.figure()
plt.stem(n1,baglama) # baglama[n] işaretinin grafiğinin çizdirilmesi
plt.title("baglama[n]") # grafiğin başlığının isimlendirilmesi
plt.xlabel("n (örnek)") # grafiğin x ekseninin isimlendirilmesi
plt.ylabel("baglama[n]") # grafiğin y ekseninin isimlendirilmesi

print('baglama:')
display(Audio(baglama, rate=Fs1))

#-----------------------------------------------------------------------------------------------------------

# baglama sinyallinin Foutier Transformu
w1 = np.arange(-np.pi, np.pi, 2*np.pi/N_baglama) # omega ekseninin -pi ile +pi arasında tanımlanması
xw1 = np.fft.fftshift(np.fft.fft(baglama,N_baglama)/N_baglama) # ayrık zamanlı işaretin Fourier transformu

plt.figure()
plt.stem(w1*Fs1/(2*np.pi),abs(xw1)) # X(w) işaretinin grafiğinin çizdirilmesi

plt.xlabel("$Hz$") # grafiğin x ekseninin isimlendirilmesi
plt.ylabel("$|X(\omega)|$") # grafiğin y ekseninin isimlendirilmesi
plt.title("Baglama için $|X(\omega)|$") # grafiğin y ekseninin isimlendirilmesi

#-----------------------------------------------------------------------------------------------------------

# FIR filtre ekleme (copy from last lab report)
import scipy.signal as sgnl

filter_data = loadmat('B12_SesGrubu01_agf.mat') # pyfda'dan elde edilen filtreyi yükle
Coeffs = filter_data['ba'].astype(np.float64) # katsayıları alın ve bunları float'a dönüştürün
b = Coeffs[0,:] # first column is b
a=np.zeros(len(b)) # FIR filtre olduğu için
a[0]=1 # FIR filtre olduğu için

# Frekans alanı grafiğini gösterelim
w3, Hw = sgnl.freqz(b,a)
Hw_mag = abs(Hw)
Hw_phs = np.unwrap(np.angle(Hw)) # Değerler arasındaki diracları 2*pi tamamlayıcı olarak değiştirerek aç
fig, (ax1, ax2) = plt.subplots(2)
ax1.plot(w3*Fs1/(2*np.pi), Hw_mag) # filtrenin genliğini çizdir
ax2.plot(w3*Fs1/(2*np.pi), Hw_phs), plt.ylabel('degrees') # filtrenin fazını çizdir
plt.xlabel('frequency x$\pi$ rad/sample')

#---------------------------------------------------------------------------------------------------------------------

# baglama sesinin filtreden geçirmek

filtered_baglama = sgnl.lfilter(b, a, baglama) # katsayıları kullanarak, sinyali filtrenin girişine uyguladık.
plt.figure()
plt.stem(abs(filtered_baglama)) # genliğini çiz
plt.xlabel("n") # grafiğin x ekseninin isimlendirilmesi
plt.ylabel("|Y[n]|") # grafiğin y ekseninin isimlendirilmesi
plt.title("AGF cıkısında baglama için $ |Y[n]| $") # grafiğin başlığının isimlendirilmesi

w1 = np.arange(-np.pi, np.pi, 2*np.pi/N_baglama) # omega ekseninin -pi ile +pi arasında tanımlanması
baglama_yw = np.fft.fftshift(np.fft.fft(filtered_baglama,N_baglama)/N_baglama) # ayrık zamanlı işaretin Fourier transformu

plt.figure()
plt.stem(w1*Fs1/(2*np.pi),abs(baglama_yw)) # Y(w) işaretinin grafiğinin çizdirilmesi

plt.xlabel("$Hz$") # grafiğin x ekseninin isimlendirilmesi
plt.ylabel("$|Y(\omega)|$") # grafiğin y ekseninin isimlendirilmesi
plt.title("AGF cıkısında baglama için $|Y(\omega)|$")  # grafiğin başlığının isimlendirilmesi


#---------------------------------------------------------------------------------------------------------------------

# Alçak Geçiren Filtreden geçmiş sesleri dinlemek (Bu filtre bağlama sesini sönümlemesi içindir)

# Her ikisini de kolayca dinleyip karşılaştırmak için ardarda eklendi 
from IPython.lib.display import Audio

print('AGF cıkısındaki baglama sesi:')
display(Audio(filtered_baglama, rate=Fs1))
print('Orjinal baglama sesi:')
display(Audio(baglama, rate=Fs1))


